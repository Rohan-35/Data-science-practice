{
 "cells": [
  {
   "cell_type": "markdown",
   "metadata": {
    "colab_type": "text",
    "id": "3DR-eO17geWu"
   },
   "source": [
    "# Convolutional Neural Network"
   ]
  },
  {
   "cell_type": "markdown",
   "metadata": {
    "colab_type": "text",
    "id": "EMefrVPCg-60"
   },
   "source": [
    "### Importing the libraries"
   ]
  },
  {
   "cell_type": "code",
   "execution_count": 1,
   "metadata": {
    "colab": {},
    "colab_type": "code",
    "id": "sCV30xyVhFbE"
   },
   "outputs": [],
   "source": [
    "import tensorflow as tf\n",
    "from keras.preprocessing.image import ImageDataGenerator"
   ]
  },
  {
   "cell_type": "code",
   "execution_count": 2,
   "metadata": {
    "colab": {},
    "colab_type": "code",
    "id": "FIleuCAjoFD8"
   },
   "outputs": [
    {
     "data": {
      "text/plain": [
       "'2.4.1'"
      ]
     },
     "execution_count": 2,
     "metadata": {},
     "output_type": "execute_result"
    }
   ],
   "source": [
    "tf.__version__"
   ]
  },
  {
   "cell_type": "markdown",
   "metadata": {
    "colab_type": "text",
    "id": "oxQxCBWyoGPE"
   },
   "source": [
    "## Part 1 - Data Preprocessing"
   ]
  },
  {
   "cell_type": "markdown",
   "metadata": {
    "colab_type": "text",
    "id": "MvE-heJNo3GG"
   },
   "source": [
    "### Preprocessing the Training set"
   ]
  },
  {
   "cell_type": "markdown",
   "metadata": {},
   "source": [
    "we are applying transformations (image augmentaion) to training set to avoid overfitting. \n",
    "\n",
    "this is done in computer vision techniques"
   ]
  },
  {
   "cell_type": "code",
   "execution_count": 3,
   "metadata": {
    "colab": {},
    "colab_type": "code",
    "id": "0koUcJMJpEBD"
   },
   "outputs": [
    {
     "name": "stdout",
     "output_type": "stream",
     "text": [
      "Found 8000 images belonging to 2 classes.\n"
     ]
    }
   ],
   "source": [
    "train_datagen = ImageDataGenerator(rescale = 1./255,  #feature scaling step\n",
    "                                   shear_range = 0.2,  \n",
    "                                   zoom_range = 0.2,\n",
    "                                   horizontal_flip = True)  #obj created\n",
    "training_set = train_datagen.flow_from_directory('dataset/training_set',\n",
    "                                                 target_size = (64, 64),  #size set to images of training set\n",
    "                                                 batch_size = 32,  #images in a batch to network\n",
    "                                                 class_mode = 'binary')  #because we have 2 outcomes"
   ]
  },
  {
   "cell_type": "markdown",
   "metadata": {
    "colab_type": "text",
    "id": "mrCMmGw9pHys"
   },
   "source": [
    "### Preprocessing the Test set"
   ]
  },
  {
   "cell_type": "code",
   "execution_count": 4,
   "metadata": {
    "colab": {},
    "colab_type": "code",
    "id": "SH4WzfOhpKc3"
   },
   "outputs": [
    {
     "name": "stdout",
     "output_type": "stream",
     "text": [
      "Found 2000 images belonging to 2 classes.\n"
     ]
    }
   ],
   "source": [
    "test_datagen = ImageDataGenerator(rescale = 1./255)\n",
    "test_set = test_datagen.flow_from_directory('dataset/test_set',\n",
    "                                            target_size = (64, 64),\n",
    "                                            batch_size = 32,\n",
    "                                            class_mode = 'binary')"
   ]
  },
  {
   "cell_type": "markdown",
   "metadata": {
    "colab_type": "text",
    "id": "af8O4l90gk7B"
   },
   "source": [
    "## Part 2 - Building the CNN"
   ]
  },
  {
   "cell_type": "markdown",
   "metadata": {
    "colab_type": "text",
    "id": "ces1gXY2lmoX"
   },
   "source": [
    "### Initialising the CNN"
   ]
  },
  {
   "cell_type": "code",
   "execution_count": 5,
   "metadata": {
    "colab": {},
    "colab_type": "code",
    "id": "SAUt4UMPlhLS"
   },
   "outputs": [],
   "source": [
    "cnn = tf.keras.models.Sequential()"
   ]
  },
  {
   "cell_type": "markdown",
   "metadata": {
    "colab_type": "text",
    "id": "u5YJj_XMl5LF"
   },
   "source": [
    "### Step 1 - Convolution"
   ]
  },
  {
   "cell_type": "code",
   "execution_count": 6,
   "metadata": {
    "colab": {},
    "colab_type": "code",
    "id": "XPzPrMckl-hV"
   },
   "outputs": [],
   "source": [
    "cnn.add(tf.keras.layers.Conv2D(filters=32, kernel_size=3, activation='relu', input_shape=[64, 64, 3]))"
   ]
  },
  {
   "cell_type": "markdown",
   "metadata": {},
   "source": [
    "filters: no. of features/ filters/ feature detectors we need.\n",
    "\n",
    "kernel: size of the feature detector (here 3x3)\n",
    "\n",
    "shape: len,breath,colour profile (RGB). for bw images, 2"
   ]
  },
  {
   "cell_type": "markdown",
   "metadata": {
    "colab_type": "text",
    "id": "tf87FpvxmNOJ"
   },
   "source": [
    "### Step 2 - Pooling"
   ]
  },
  {
   "cell_type": "markdown",
   "metadata": {},
   "source": [
    "extracting more details out of the convolution layer."
   ]
  },
  {
   "cell_type": "code",
   "execution_count": 7,
   "metadata": {
    "colab": {},
    "colab_type": "code",
    "id": "ncpqPl69mOac"
   },
   "outputs": [],
   "source": [
    "cnn.add(tf.keras.layers.MaxPool2D(pool_size=2, strides=2))  #size: size of pooling detector. strides: no of pixel moved in each step"
   ]
  },
  {
   "cell_type": "markdown",
   "metadata": {
    "colab_type": "text",
    "id": "xaTOgD8rm4mU"
   },
   "source": [
    "### Adding a second convolutional layer"
   ]
  },
  {
   "cell_type": "markdown",
   "metadata": {},
   "source": [
    "adding more convolution layers is better. it increases time of excecution."
   ]
  },
  {
   "cell_type": "code",
   "execution_count": 8,
   "metadata": {
    "colab": {},
    "colab_type": "code",
    "id": "i_-FZjn_m8gk"
   },
   "outputs": [],
   "source": [
    "cnn.add(tf.keras.layers.Conv2D(filters=32, kernel_size=3, activation='relu'))\n",
    "cnn.add(tf.keras.layers.MaxPool2D(pool_size=2, strides=2))"
   ]
  },
  {
   "cell_type": "markdown",
   "metadata": {
    "colab_type": "text",
    "id": "tmiEuvTunKfk"
   },
   "source": [
    "### Step 3 - Flattening"
   ]
  },
  {
   "cell_type": "code",
   "execution_count": 9,
   "metadata": {
    "colab": {},
    "colab_type": "code",
    "id": "6AZeOGCvnNZn"
   },
   "outputs": [],
   "source": [
    "cnn.add(tf.keras.layers.Flatten())  "
   ]
  },
  {
   "cell_type": "markdown",
   "metadata": {
    "colab_type": "text",
    "id": "dAoSECOm203v"
   },
   "source": [
    "### Step 4 - Full Connection"
   ]
  },
  {
   "cell_type": "code",
   "execution_count": 10,
   "metadata": {
    "colab": {},
    "colab_type": "code",
    "id": "8GtmUlLd26Nq"
   },
   "outputs": [],
   "source": [
    "cnn.add(tf.keras.layers.Dense(units=128, activation='relu'))  #same as hidden layer of ann. units are randomly chosen higher for a complex task."
   ]
  },
  {
   "cell_type": "markdown",
   "metadata": {
    "colab_type": "text",
    "id": "yTldFvbX28Na"
   },
   "source": [
    "### Step 5 - Output Layer"
   ]
  },
  {
   "cell_type": "code",
   "execution_count": 11,
   "metadata": {
    "colab": {},
    "colab_type": "code",
    "id": "1p_Zj1Mc3Ko_"
   },
   "outputs": [],
   "source": [
    "cnn.add(tf.keras.layers.Dense(units=1, activation='sigmoid'))  #sigmoid is just to signify 2 outputs"
   ]
  },
  {
   "cell_type": "markdown",
   "metadata": {
    "colab_type": "text",
    "id": "D6XkI90snSDl"
   },
   "source": [
    "## Part 3 - Training the CNN"
   ]
  },
  {
   "cell_type": "markdown",
   "metadata": {
    "colab_type": "text",
    "id": "vfrFQACEnc6i"
   },
   "source": [
    "### Compiling the CNN"
   ]
  },
  {
   "cell_type": "markdown",
   "metadata": {},
   "source": [
    "to connect the cnn with loss and optimizer function"
   ]
  },
  {
   "cell_type": "code",
   "execution_count": 12,
   "metadata": {
    "colab": {},
    "colab_type": "code",
    "id": "NALksrNQpUlJ"
   },
   "outputs": [],
   "source": [
    "cnn.compile(optimizer = 'adam', loss = 'binary_crossentropy', metrics = ['accuracy'])"
   ]
  },
  {
   "cell_type": "markdown",
   "metadata": {
    "colab_type": "text",
    "id": "ehS-v3MIpX2h"
   },
   "source": [
    "### Training the CNN on the Training set and evaluating it on the Test set"
   ]
  },
  {
   "cell_type": "code",
   "execution_count": 13,
   "metadata": {
    "colab": {},
    "colab_type": "code",
    "id": "XUj1W4PJptta"
   },
   "outputs": [
    {
     "name": "stdout",
     "output_type": "stream",
     "text": [
      "Epoch 1/25\n",
      "250/250 [==============================] - 146s 577ms/step - loss: 0.6894 - accuracy: 0.5443 - val_loss: 0.6395 - val_accuracy: 0.6215\n",
      "Epoch 2/25\n",
      "250/250 [==============================] - 38s 154ms/step - loss: 0.6163 - accuracy: 0.6627 - val_loss: 0.5775 - val_accuracy: 0.6890\n",
      "Epoch 3/25\n",
      "250/250 [==============================] - 39s 156ms/step - loss: 0.5622 - accuracy: 0.7086 - val_loss: 0.5252 - val_accuracy: 0.7470\n",
      "Epoch 4/25\n",
      "250/250 [==============================] - 39s 157ms/step - loss: 0.5385 - accuracy: 0.7309 - val_loss: 0.5225 - val_accuracy: 0.7530\n",
      "Epoch 5/25\n",
      "250/250 [==============================] - 63s 251ms/step - loss: 0.5114 - accuracy: 0.7465 - val_loss: 0.4989 - val_accuracy: 0.7615\n",
      "Epoch 6/25\n",
      "250/250 [==============================] - 44s 177ms/step - loss: 0.4965 - accuracy: 0.7582 - val_loss: 0.4842 - val_accuracy: 0.7580\n",
      "Epoch 7/25\n",
      "250/250 [==============================] - 39s 155ms/step - loss: 0.4782 - accuracy: 0.7663 - val_loss: 0.4703 - val_accuracy: 0.7755\n",
      "Epoch 8/25\n",
      "250/250 [==============================] - 39s 156ms/step - loss: 0.4560 - accuracy: 0.7822 - val_loss: 0.4814 - val_accuracy: 0.7660\n",
      "Epoch 9/25\n",
      "250/250 [==============================] - 39s 157ms/step - loss: 0.4430 - accuracy: 0.7934 - val_loss: 0.4614 - val_accuracy: 0.7820\n",
      "Epoch 10/25\n",
      "250/250 [==============================] - 40s 161ms/step - loss: 0.4217 - accuracy: 0.8022 - val_loss: 0.4548 - val_accuracy: 0.7885\n",
      "Epoch 11/25\n",
      "250/250 [==============================] - 39s 157ms/step - loss: 0.4160 - accuracy: 0.8066 - val_loss: 0.4357 - val_accuracy: 0.7980\n",
      "Epoch 12/25\n",
      "250/250 [==============================] - 39s 157ms/step - loss: 0.3903 - accuracy: 0.8227 - val_loss: 0.4491 - val_accuracy: 0.8005\n",
      "Epoch 13/25\n",
      "250/250 [==============================] - 40s 158ms/step - loss: 0.3728 - accuracy: 0.8222 - val_loss: 0.4325 - val_accuracy: 0.8115\n",
      "Epoch 14/25\n",
      "250/250 [==============================] - 39s 156ms/step - loss: 0.3516 - accuracy: 0.8456 - val_loss: 0.4437 - val_accuracy: 0.8035\n",
      "Epoch 15/25\n",
      "250/250 [==============================] - 39s 156ms/step - loss: 0.3457 - accuracy: 0.8443 - val_loss: 0.4917 - val_accuracy: 0.7900\n",
      "Epoch 16/25\n",
      "250/250 [==============================] - 39s 157ms/step - loss: 0.3291 - accuracy: 0.8529 - val_loss: 0.4396 - val_accuracy: 0.8045\n",
      "Epoch 17/25\n",
      "250/250 [==============================] - 40s 158ms/step - loss: 0.3276 - accuracy: 0.8555 - val_loss: 0.4349 - val_accuracy: 0.8105\n",
      "Epoch 18/25\n",
      "250/250 [==============================] - 40s 158ms/step - loss: 0.3110 - accuracy: 0.8632 - val_loss: 0.4401 - val_accuracy: 0.8045\n",
      "Epoch 19/25\n",
      "250/250 [==============================] - 40s 158ms/step - loss: 0.2943 - accuracy: 0.8695 - val_loss: 0.4566 - val_accuracy: 0.8140\n",
      "Epoch 20/25\n",
      "250/250 [==============================] - 39s 157ms/step - loss: 0.2889 - accuracy: 0.8790 - val_loss: 0.4624 - val_accuracy: 0.8200\n",
      "Epoch 21/25\n",
      "250/250 [==============================] - 39s 157ms/step - loss: 0.2785 - accuracy: 0.8892 - val_loss: 0.4616 - val_accuracy: 0.8175\n",
      "Epoch 22/25\n",
      "250/250 [==============================] - 39s 158ms/step - loss: 0.2474 - accuracy: 0.8951 - val_loss: 0.4840 - val_accuracy: 0.8065\n",
      "Epoch 23/25\n",
      "250/250 [==============================] - 39s 157ms/step - loss: 0.2413 - accuracy: 0.8976 - val_loss: 0.4725 - val_accuracy: 0.8155\n",
      "Epoch 24/25\n",
      "250/250 [==============================] - 39s 157ms/step - loss: 0.2561 - accuracy: 0.8946 - val_loss: 0.4887 - val_accuracy: 0.8245\n",
      "Epoch 25/25\n",
      "250/250 [==============================] - 39s 157ms/step - loss: 0.2288 - accuracy: 0.9088 - val_loss: 0.5084 - val_accuracy: 0.8210\n"
     ]
    },
    {
     "data": {
      "text/plain": [
       "<tensorflow.python.keras.callbacks.History at 0x7f4ef01ca370>"
      ]
     },
     "execution_count": 13,
     "metadata": {},
     "output_type": "execute_result"
    }
   ],
   "source": [
    "cnn.fit(x = training_set, validation_data = test_set, epochs = 25)"
   ]
  },
  {
   "cell_type": "markdown",
   "metadata": {
    "colab_type": "text",
    "id": "U3PZasO0006Z"
   },
   "source": [
    "## Part 4 - Making a single prediction"
   ]
  },
  {
   "cell_type": "code",
   "execution_count": 22,
   "metadata": {
    "colab": {},
    "colab_type": "code",
    "id": "gsSiWEJY1BPB"
   },
   "outputs": [],
   "source": [
    "import numpy as np\n",
    "from keras.preprocessing import image\n",
    "test_image = image.load_img('dataset/test_set/cats/cat.4018.jpg', target_size = (64, 64))\n",
    "# dog image selected. the size should be same as training set. \n",
    "# load_img loads image in pil format (python image library), but it is not acceptable by predict method.\n",
    "test_image = image.img_to_array(test_image)  #converts pil to 2D array (numpy array)\n",
    "test_image = np.expand_dims(test_image, axis = 0)  #convert 1D array to 2D. done to properly fit the model according to all batches of test images\n",
    "result = cnn.predict(test_image)  \n",
    "training_set.class_indices  #to get indices used in training set\n",
    "if result[0][0] == 1:  #result also will be of 2D but only we need is 1st D\n",
    "  prediction = 'dog'\n",
    "else:\n",
    "  prediction = 'cat'"
   ]
  },
  {
   "cell_type": "code",
   "execution_count": 23,
   "metadata": {
    "colab": {},
    "colab_type": "code",
    "id": "ED9KB3I54c1i"
   },
   "outputs": [
    {
     "name": "stdout",
     "output_type": "stream",
     "text": [
      "cat\n"
     ]
    }
   ],
   "source": [
    "print(prediction)"
   ]
  }
 ],
 "metadata": {
  "colab": {
   "collapsed_sections": [],
   "name": "convolutional_neural_network.ipynb",
   "provenance": [],
   "toc_visible": true
  },
  "kernelspec": {
   "display_name": "Python 3",
   "language": "python",
   "name": "python3"
  },
  "language_info": {
   "codemirror_mode": {
    "name": "ipython",
    "version": 3
   },
   "file_extension": ".py",
   "mimetype": "text/x-python",
   "name": "python",
   "nbconvert_exporter": "python",
   "pygments_lexer": "ipython3",
   "version": "3.8.3"
  }
 },
 "nbformat": 4,
 "nbformat_minor": 1
}
