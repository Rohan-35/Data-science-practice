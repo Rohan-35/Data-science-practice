{
  "nbformat": 4,
  "nbformat_minor": 0,
  "metadata": {
    "kernelspec": {
      "display_name": "Python 3",
      "language": "python",
      "name": "python3"
    },
    "language_info": {
      "codemirror_mode": {
        "name": "ipython",
        "version": 3
      },
      "file_extension": ".py",
      "mimetype": "text/x-python",
      "name": "python",
      "nbconvert_exporter": "python",
      "pygments_lexer": "ipython3",
      "version": "3.8.5"
    },
    "colab": {
      "name": "prediction of covid19.ipynb",
      "provenance": [],
      "collapsed_sections": [],
      "include_colab_link": true
    }
  },
  "cells": [
    {
      "cell_type": "markdown",
      "metadata": {
        "id": "view-in-github",
        "colab_type": "text"
      },
      "source": [
        "<a href=\"https://colab.research.google.com/github/Rohan-35/Data-science-practice/blob/main/prediction_of_covid19.ipynb\" target=\"_parent\"><img src=\"https://colab.research.google.com/assets/colab-badge.svg\" alt=\"Open In Colab\"/></a>"
      ]
    },
    {
      "cell_type": "code",
      "metadata": {
        "id": "CD2CZg4E8ziY"
      },
      "source": [
        "import numpy as np\n",
        "import matplotlib.pyplot as plt\n",
        "import pandas as pd"
      ],
      "execution_count": 1,
      "outputs": []
    },
    {
      "cell_type": "code",
      "metadata": {
        "id": "1ehjc6Jv8zi9"
      },
      "source": [
        "dataset = pd.read_csv('my covid project.csv')\n",
        "x = dataset.iloc[:, 1].values\n",
        "y = dataset.iloc[:, -1].values"
      ],
      "execution_count": 7,
      "outputs": []
    },
    {
      "cell_type": "code",
      "metadata": {
        "id": "SmKB6DV58zjJ",
        "colab": {
          "base_uri": "https://localhost:8080/"
        },
        "outputId": "f7e0b6cb-a953-4ce9-d437-2cb89c7a5397"
      },
      "source": [
        "print(x)"
      ],
      "execution_count": null,
      "outputs": [
        {
          "output_type": "stream",
          "text": [
            "[    1     1     0     0     0     2     1    22     2     1     3     5\n",
            "     5     6    10    14     7     3    26     4    23    14    22    50\n",
            "    92    45   108    51    87    88   140    84   106   227   146   437\n",
            "   235   478   525   505   704   508   485   591   896   768   918   905\n",
            "  1463  1118   826  1076   957  1324  1540  1329  1486  1229  1752  1490\n",
            "  1975  1463  1594  1813  1823  1755  2411  2487  2573  3875  2680  3561\n",
            "  3390  3320  3277  4213  3604  3525  3722  3967  3970  4987  5242  4970\n",
            "  5611  5609  6088  6654  6767  6977  6535  6387  6566  7466  7964  8380\n",
            "  8392  8171  8909  9304  9851  9887  9971  9983  9987  9985  9996 10956\n",
            " 11458 11929 11502 10667 10974 12881 13586 14516 15413 14821 14933 15968\n",
            " 16922 17296 18552 19906 19459 18522 18653 19148 20903 22771 24850 24248\n",
            " 22252 22752 24879 26506 27114 28637 28701 28498 29429 32695 34956 34884\n",
            " 38902 40425 37148 37724 45720 49310 48916 48661 49931 47703 48513 52123\n",
            " 55078 57118 54735 52972 52050 52509 56282 62538 61537 64399 62064 53601\n",
            " 60963 66999 64553 65002 63490 57981 55079 64531 69652 68898 69878 69239\n",
            " 61408 60975 67151 75760 77266 76472 78761 78512 69921 78357 83883 83341\n",
            " 86432 90632 90802 75809 89706 95735 96551 97570 94372 92071 83809 90123\n",
            " 97894 96424 93337 92605 86961 75083 83347 86508 86052 85362 88600 82170\n",
            " 70589 80472 86821 81484 79476 75829 74442 61267 72049 78524 70496 73272\n",
            " 74383 66732 55342 63509 67708 63371 62212 61871 55722 46790 54044 55839\n",
            " 54366 53370 50129 45148 36470 43893 49881 48648 48268 46963 45231 38310\n",
            " 46253 50210 47638 50356 45674 45903 38073 44281 47905 44879 44684 41100\n",
            " 30548 29163 38617 45576 45882 46232]\n"
          ],
          "name": "stdout"
        }
      ]
    },
    {
      "cell_type": "code",
      "metadata": {
        "id": "C02kPo7g8zjW",
        "colab": {
          "base_uri": "https://localhost:8080/"
        },
        "outputId": "835a3984-ec23-4e71-b092-8be8fb0ed369"
      },
      "source": [
        "print(y)"
      ],
      "execution_count": null,
      "outputs": [
        {
          "output_type": "stream",
          "text": [
            "['2020-02-02' '2020-02-03' '2020-02-04' '2020-02-21' '2020-02-27'\n",
            " '2020-03-02' '2020-03-03' '2020-03-04' '2020-03-05' '2020-03-06'\n",
            " '2020-03-07' '2020-03-08' '2020-03-09' '2020-03-10' '2020-03-11'\n",
            " '2020-03-12' '2020-03-13' '2020-03-14' '2020-03-15' '2020-03-16'\n",
            " '2020-03-17' '2020-03-18' '2020-03-19' '2020-03-20' '2020-03-21'\n",
            " '2020-03-22' '2020-03-23' '2020-03-24' '2020-03-25' '2020-03-26'\n",
            " '2020-03-27' '2020-03-28' '2020-03-29' '2020-03-30' '2020-03-31'\n",
            " '2020-04-01' '2020-04-02' '2020-04-03' '2020-04-04' '2020-04-05'\n",
            " '2020-04-06' '2020-04-07' '2020-04-08' '2020-04-09' '2020-04-10'\n",
            " '2020-04-11' '2020-04-12' '2020-04-13' '2020-04-14' '2020-04-15'\n",
            " '2020-04-16' '2020-04-17' '2020-04-18' '2020-04-19' '2020-04-20'\n",
            " '2020-04-21' '2020-04-22' '2020-04-23' '2020-04-24' '2020-04-25'\n",
            " '2020-04-26' '2020-04-27' '2020-04-28' '2020-04-29' '2020-04-30'\n",
            " '2020-05-01' '2020-05-02' '2020-05-03' '2020-05-04' '2020-05-05'\n",
            " '2020-05-06' '2020-05-07' '2020-05-08' '2020-05-09' '2020-05-10'\n",
            " '2020-05-11' '2020-05-12' '2020-05-13' '2020-05-14' '2020-05-15'\n",
            " '2020-05-16' '2020-05-17' '2020-05-18' '2020-05-19' '2020-05-20'\n",
            " '2020-05-21' '2020-05-22' '2020-05-23' '2020-05-24' '2020-05-25'\n",
            " '2020-05-26' '2020-05-27' '2020-05-28' '2020-05-29' '2020-05-30'\n",
            " '2020-05-31' '2020-06-01' '2020-06-02' '2020-06-03' '2020-06-04'\n",
            " '2020-06-05' '2020-06-06' '2020-06-07' '2020-06-08' '2020-06-09'\n",
            " '2020-06-10' '2020-06-11' '2020-06-12' '2020-06-13' '2020-06-14'\n",
            " '2020-06-15' '2020-06-16' '2020-06-17' '2020-06-18' '2020-06-19'\n",
            " '2020-06-20' '2020-06-21' '2020-06-22' '2020-06-23' '2020-06-24'\n",
            " '2020-06-25' '2020-06-26' '2020-06-27' '2020-06-28' '2020-06-29'\n",
            " '2020-06-30' '2020-07-01' '2020-07-02' '2020-07-03' '2020-07-04'\n",
            " '2020-07-05' '2020-07-06' '2020-07-07' '2020-07-08' '2020-07-09'\n",
            " '2020-07-10' '2020-07-11' '2020-07-12' '2020-07-13' '2020-07-14'\n",
            " '2020-07-15' '2020-07-16' '2020-07-17' '2020-07-18' '2020-07-19'\n",
            " '2020-07-20' '2020-07-21' '2020-07-22' '2020-07-23' '2020-07-24'\n",
            " '2020-07-25' '2020-07-26' '2020-07-27' '2020-07-28' '2020-07-29'\n",
            " '2020-07-30' '2020-07-31' '2020-08-01' '2020-08-02' '2020-08-03'\n",
            " '2020-08-04' '2020-08-05' '2020-08-06' '2020-08-07' '2020-08-08'\n",
            " '2020-08-09' '2020-08-10' '2020-08-11' '2020-08-12' '2020-08-13'\n",
            " '2020-08-14' '2020-08-15' '2020-08-16' '2020-08-17' '2020-08-18'\n",
            " '2020-08-19' '2020-08-20' '2020-08-21' '2020-08-22' '2020-08-23'\n",
            " '2020-08-24' '2020-08-25' '2020-08-26' '2020-08-27' '2020-08-28'\n",
            " '2020-08-29' '2020-08-30' '2020-08-31' '2020-09-01' '2020-09-02'\n",
            " '2020-09-03' '2020-09-04' '2020-09-05' '2020-09-06' '2020-09-07'\n",
            " '2020-09-08' '2020-09-09' '2020-09-10' '2020-09-11' '2020-09-12'\n",
            " '2020-09-13' '2020-09-14' '2020-09-15' '2020-09-16' '2020-09-17'\n",
            " '2020-09-18' '2020-09-19' '2020-09-20' '2020-09-21' '2020-09-22'\n",
            " '2020-09-23' '2020-09-24' '2020-09-25' '2020-09-26' '2020-09-27'\n",
            " '2020-09-28' '2020-09-29' '2020-09-30' '2020-10-01' '2020-10-02'\n",
            " '2020-10-03' '2020-10-04' '2020-10-05' '2020-10-06' '2020-10-07'\n",
            " '2020-10-08' '2020-10-09' '2020-10-10' '2020-10-11' '2020-10-12'\n",
            " '2020-10-13' '2020-10-14' '2020-10-15' '2020-10-16' '2020-10-17'\n",
            " '2020-10-18' '2020-10-19' '2020-10-20' '2020-10-21' '2020-10-22'\n",
            " '2020-10-23' '2020-10-24' '2020-10-25' '2020-10-26' '2020-10-27'\n",
            " '2020-10-28' '2020-10-29' '2020-10-30' '2020-10-31' '2020-11-01'\n",
            " '2020-11-02' '2020-11-03' '2020-11-04' '2020-11-05' '2020-11-06'\n",
            " '2020-11-07' '2020-11-08' '2020-11-09' '2020-11-10' '2020-11-11'\n",
            " '2020-11-12' '2020-11-13' '2020-11-14' '2020-11-15' '2020-11-16'\n",
            " '2020-11-17' '2020-11-18' '2020-11-19' '2020-11-20' '2020-11-21']\n"
          ],
          "name": "stdout"
        }
      ]
    },
    {
      "cell_type": "markdown",
      "metadata": {
        "id": "0-uXcGJv8zjh"
      },
      "source": [
        "# Encoding dates:"
      ]
    },
    {
      "cell_type": "code",
      "metadata": {
        "id": "40lMO3ep8zjj",
        "colab": {
          "base_uri": "https://localhost:8080/"
        },
        "outputId": "ffc2933d-35ea-4c15-cac5-cb5704cd1cdb"
      },
      "source": [
        "testdate=pd.to_datetime(y)\n",
        "print(testdate)\n",
        "months=pd.to_datetime(testdate).month"
      ],
      "execution_count": null,
      "outputs": [
        {
          "output_type": "stream",
          "text": [
            "DatetimeIndex(['2020-02-02', '2020-02-03', '2020-02-04', '2020-02-21',\n",
            "               '2020-02-27', '2020-03-02', '2020-03-03', '2020-03-04',\n",
            "               '2020-03-05', '2020-03-06',\n",
            "               ...\n",
            "               '2020-11-12', '2020-11-13', '2020-11-14', '2020-11-15',\n",
            "               '2020-11-16', '2020-11-17', '2020-11-18', '2020-11-19',\n",
            "               '2020-11-20', '2020-11-21'],\n",
            "              dtype='datetime64[ns]', length=270, freq=None)\n"
          ],
          "name": "stdout"
        }
      ]
    },
    {
      "cell_type": "markdown",
      "metadata": {
        "id": "Lyo7mf3x8zjr"
      },
      "source": [
        "# Training model using Polynomial Regression"
      ]
    },
    {
      "cell_type": "code",
      "metadata": {
        "id": "cWFANMZS8zjs",
        "colab": {
          "base_uri": "https://localhost:8080/"
        },
        "outputId": "9857b2e5-3998-4212-a80e-a62072615669"
      },
      "source": [
        "from sklearn.linear_model import LinearRegression\n",
        "lin_reg = LinearRegression()\n",
        "x=x.reshape(-1,1)\n",
        "#testdate=testdate.reshape(-1,1)\n",
        "lin_reg.fit(x, months)"
      ],
      "execution_count": null,
      "outputs": [
        {
          "output_type": "execute_result",
          "data": {
            "text/plain": [
              "LinearRegression(copy_X=True, fit_intercept=True, n_jobs=None, normalize=False)"
            ]
          },
          "metadata": {
            "tags": []
          },
          "execution_count": 7
        }
      ]
    },
    {
      "cell_type": "code",
      "metadata": {
        "id": "uO-dMrTq8zj3",
        "colab": {
          "base_uri": "https://localhost:8080/"
        },
        "outputId": "04285157-8862-4fd3-bc69-24ab66d9a14a"
      },
      "source": [
        "from sklearn.preprocessing import PolynomialFeatures  #for matrix of feature creation\n",
        "poly_reg = PolynomialFeatures(degree = 4) \n",
        "X_poly = poly_reg.fit_transform(x)  #applies this to x and transforms it to according to prexisting matrix of x\n",
        "lin_reg_2 = LinearRegression()  \n",
        "lin_reg_2.fit(X_poly, months)  #creates a multiple regression of all individual polynomial matrices"
      ],
      "execution_count": null,
      "outputs": [
        {
          "output_type": "execute_result",
          "data": {
            "text/plain": [
              "LinearRegression(copy_X=True, fit_intercept=True, n_jobs=None, normalize=False)"
            ]
          },
          "metadata": {
            "tags": []
          },
          "execution_count": 8
        }
      ]
    },
    {
      "cell_type": "markdown",
      "metadata": {
        "id": "s0M1EskvMdWv"
      },
      "source": [
        "# Prediction of results"
      ]
    },
    {
      "cell_type": "code",
      "metadata": {
        "id": "TmZEtewnMir2",
        "colab": {
          "base_uri": "https://localhost:8080/"
        },
        "outputId": "bd6dd959-66e4-4988-da8b-6e54de9e19e6"
      },
      "source": [
        "results=lin_reg_2.predict(poly_reg.fit_transform([[0]]))\n",
        "results=float(results[0])\n",
        "print(f\"Covid new cases would be 0 till {round(results,2)}th month of 2021\")"
      ],
      "execution_count": null,
      "outputs": [
        {
          "output_type": "stream",
          "text": [
            "Covid new cases would be 0 till 4.11th month of 2021\n"
          ],
          "name": "stdout"
        }
      ]
    },
    {
      "cell_type": "markdown",
      "metadata": {
        "id": "I9-CHW1zYfEV"
      },
      "source": [
        "# Plotting the results"
      ]
    },
    {
      "cell_type": "code",
      "metadata": {
        "colab": {
          "base_uri": "https://localhost:8080/",
          "height": 295
        },
        "id": "_FFKwJQjYlIz",
        "outputId": "d3e5f7e3-f8f7-4662-984a-b699cbb23d73"
      },
      "source": [
        "plt.plot(x, lin_reg_2.predict(X_poly), color = 'blue') \n",
        "plt.title('Covid19 Prediction')\n",
        "plt.xlabel('new cases')\n",
        "plt.ylabel('month')\n",
        "plt.show()"
      ],
      "execution_count": null,
      "outputs": [
        {
          "output_type": "display_data",
          "data": {
            "image/png": "[encoded data removed]",
            "text/plain": [
              "<Figure size 432x288 with 1 Axes>"
            ]
          },
          "metadata": {
            "tags": [],
            "needs_background": "light"
          }
        }
      ]
    }
  ]
}