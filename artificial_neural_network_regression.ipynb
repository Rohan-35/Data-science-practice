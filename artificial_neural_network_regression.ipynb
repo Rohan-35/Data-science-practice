{
 "cells": [
  {
   "cell_type": "markdown",
   "metadata": {
    "colab_type": "text",
    "id": "3cbb7fRy-eyr"
   },
   "source": [
    "# Artificial Neural Network"
   ]
  },
  {
   "cell_type": "markdown",
   "metadata": {
    "colab_type": "text",
    "id": "8sNDnxE2-pwE"
   },
   "source": [
    "### Importing the libraries"
   ]
  },
  {
   "cell_type": "code",
   "execution_count": 1,
   "metadata": {
    "colab": {},
    "colab_type": "code",
    "id": "lxChR1Rk-umf"
   },
   "outputs": [],
   "source": [
    "import numpy as np\n",
    "import pandas as pd\n",
    "import tensorflow as tf"
   ]
  },
  {
   "cell_type": "code",
   "execution_count": 2,
   "metadata": {
    "colab": {
     "base_uri": "https://localhost:8080/",
     "height": 34
    },
    "colab_type": "code",
    "id": "uBTqR3nacj0e",
    "outputId": "4c0bd183-e424-429a-9fba-ceb841c06888"
   },
   "outputs": [
    {
     "data": {
      "text/plain": [
       "'2.2.0-rc2'"
      ]
     },
     "execution_count": 2,
     "metadata": {
      "tags": []
     },
     "output_type": "execute_result"
    }
   ],
   "source": [
    "tf.__version__"
   ]
  },
  {
   "cell_type": "markdown",
   "metadata": {
    "colab_type": "text",
    "id": "AG3FQEch-yuA"
   },
   "source": [
    "## Part 1 - Data Preprocessing"
   ]
  },
  {
   "cell_type": "markdown",
   "metadata": {
    "colab_type": "text",
    "id": "-4zq8Mza_D9O"
   },
   "source": [
    "### Importing the dataset"
   ]
  },
  {
   "cell_type": "code",
   "execution_count": 2,
   "metadata": {
    "colab": {},
    "colab_type": "code",
    "id": "B9CV13Co_HHM"
   },
   "outputs": [],
   "source": [
    "dataset = pd.read_excel('Folds5x2_pp.xlsx')\n",
    "X = dataset.iloc[:, :-1].values\n",
    "y = dataset.iloc[:, -1].values"
   ]
  },
  {
   "cell_type": "markdown",
   "metadata": {
    "colab_type": "text",
    "id": "VC6omXel_Up0"
   },
   "source": [
    "### Splitting the dataset into the Training set and Test set"
   ]
  },
  {
   "cell_type": "code",
   "execution_count": 3,
   "metadata": {
    "colab": {},
    "colab_type": "code",
    "id": "L5edeb2r_agx"
   },
   "outputs": [],
   "source": [
    "from sklearn.model_selection import train_test_split\n",
    "X_train, X_test, y_train, y_test = train_test_split(X, y, test_size = 0.2, random_state = 0)"
   ]
  },
  {
   "cell_type": "markdown",
   "metadata": {
    "colab_type": "text",
    "id": "_mSLlAT9_eyI"
   },
   "source": [
    "## Part 2 - Building the ANN"
   ]
  },
  {
   "cell_type": "markdown",
   "metadata": {
    "colab_type": "text",
    "id": "CsBULd_f_wLY"
   },
   "source": [
    "### Initializing the ANN"
   ]
  },
  {
   "cell_type": "code",
   "execution_count": 4,
   "metadata": {
    "colab": {},
    "colab_type": "code",
    "id": "J6Hd97Ls__Nz"
   },
   "outputs": [],
   "source": [
    "ann = tf.keras.models.Sequential()"
   ]
  },
  {
   "cell_type": "markdown",
   "metadata": {
    "colab_type": "text",
    "id": "iitAFJS_ABUn"
   },
   "source": [
    "### Adding the input layer and the first hidden layer"
   ]
  },
  {
   "cell_type": "code",
   "execution_count": 5,
   "metadata": {
    "colab": {},
    "colab_type": "code",
    "id": "ksO_Vv40AHix"
   },
   "outputs": [],
   "source": [
    "ann.add(tf.keras.layers.Dense(units=6, activation='relu'))"
   ]
  },
  {
   "cell_type": "markdown",
   "metadata": {
    "colab_type": "text",
    "id": "-lb4kK_wAKbs"
   },
   "source": [
    "### Adding the second hidden layer"
   ]
  },
  {
   "cell_type": "code",
   "execution_count": 6,
   "metadata": {
    "colab": {},
    "colab_type": "code",
    "id": "c2357OqEAQOQ"
   },
   "outputs": [],
   "source": [
    "ann.add(tf.keras.layers.Dense(units=6, activation='relu'))"
   ]
  },
  {
   "cell_type": "markdown",
   "metadata": {
    "colab_type": "text",
    "id": "jwMOmKb3AdBY"
   },
   "source": [
    "### Adding the output layer"
   ]
  },
  {
   "cell_type": "code",
   "execution_count": 7,
   "metadata": {
    "colab": {},
    "colab_type": "code",
    "id": "YFATpzsUAkLL"
   },
   "outputs": [],
   "source": [
    "ann.add(tf.keras.layers.Dense(units=1))  #we use softmax activation function is normally used in classification. so, we can use the default."
   ]
  },
  {
   "cell_type": "markdown",
   "metadata": {
    "colab_type": "text",
    "id": "fq7e4fF6A1yy"
   },
   "source": [
    "## Part 3 - Training the ANN"
   ]
  },
  {
   "cell_type": "markdown",
   "metadata": {
    "colab_type": "text",
    "id": "qDeylAs2An25"
   },
   "source": [
    "### Compiling the ANN"
   ]
  },
  {
   "cell_type": "code",
   "execution_count": 8,
   "metadata": {
    "colab": {},
    "colab_type": "code",
    "id": "pesgbWlCAtB4"
   },
   "outputs": [],
   "source": [
    "ann.compile(optimizer = 'adam', loss = 'mean_squared_error')  #for regression we use mean_squared_error. it calculates squared diff of real and actual results."
   ]
  },
  {
   "cell_type": "markdown",
   "metadata": {
    "colab_type": "text",
    "id": "YjVuiybYOo7r"
   },
   "source": [
    "### Training the ANN model on the Training set"
   ]
  },
  {
   "cell_type": "code",
   "execution_count": 9,
   "metadata": {
    "colab": {
     "base_uri": "https://localhost:8080/",
     "height": 1000
    },
    "colab_type": "code",
    "id": "c_vV-tiiA5zn",
    "outputId": "4a2b6ee6-ed75-4698-9069-b250e613803f"
   },
   "outputs": [
    {
     "name": "stdout",
     "output_type": "stream",
     "text": [
      "Epoch 1/100\n",
      "240/240 [==============================] - 1s 1ms/step - loss: 39878.2925\n",
      "Epoch 2/100\n",
      "240/240 [==============================] - 0s 1ms/step - loss: 150.3190\n",
      "Epoch 3/100\n",
      "240/240 [==============================] - 0s 1ms/step - loss: 135.4956\n",
      "Epoch 4/100\n",
      "240/240 [==============================] - 0s 1ms/step - loss: 121.2139\n",
      "Epoch 5/100\n",
      "240/240 [==============================] - 0s 1ms/step - loss: 110.2335\n",
      "Epoch 6/100\n",
      "240/240 [==============================] - 0s 1ms/step - loss: 98.0428\n",
      "Epoch 7/100\n",
      "240/240 [==============================] - 0s 1ms/step - loss: 85.7877\n",
      "Epoch 8/100\n",
      "240/240 [==============================] - 0s 1ms/step - loss: 78.3755\n",
      "Epoch 9/100\n",
      "240/240 [==============================] - 0s 1ms/step - loss: 69.3291\n",
      "Epoch 10/100\n",
      "240/240 [==============================] - 0s 1ms/step - loss: 59.6779\n",
      "Epoch 11/100\n",
      "240/240 [==============================] - 0s 1ms/step - loss: 53.3715\n",
      "Epoch 12/100\n",
      "240/240 [==============================] - 0s 1ms/step - loss: 47.4907\n",
      "Epoch 13/100\n",
      "240/240 [==============================] - 0s 1ms/step - loss: 43.3221\n",
      "Epoch 14/100\n",
      "240/240 [==============================] - 0s 1ms/step - loss: 40.7206\n",
      "Epoch 15/100\n",
      "240/240 [==============================] - 0s 1ms/step - loss: 38.4281\n",
      "Epoch 16/100\n",
      "240/240 [==============================] - 0s 1ms/step - loss: 38.0613\n",
      "Epoch 17/100\n",
      "240/240 [==============================] - 0s 1ms/step - loss: 36.5237\n",
      "Epoch 18/100\n",
      "240/240 [==============================] - 0s 1ms/step - loss: 37.5276\n",
      "Epoch 19/100\n",
      "240/240 [==============================] - 0s 1ms/step - loss: 35.6866\n",
      "Epoch 20/100\n",
      "240/240 [==============================] - 0s 1ms/step - loss: 34.6453\n",
      "Epoch 21/100\n",
      "240/240 [==============================] - 0s 1ms/step - loss: 34.9190\n",
      "Epoch 22/100\n",
      "240/240 [==============================] - 0s 1ms/step - loss: 32.4934\n",
      "Epoch 23/100\n",
      "240/240 [==============================] - 0s 1ms/step - loss: 34.0868\n",
      "Epoch 24/100\n",
      "240/240 [==============================] - 0s 1ms/step - loss: 32.8431\n",
      "Epoch 25/100\n",
      "240/240 [==============================] - 0s 1ms/step - loss: 31.4566\n",
      "Epoch 26/100\n",
      "240/240 [==============================] - 0s 1ms/step - loss: 30.8941\n",
      "Epoch 27/100\n",
      "240/240 [==============================] - 0s 1ms/step - loss: 29.6502\n",
      "Epoch 28/100\n",
      "240/240 [==============================] - 0s 1ms/step - loss: 29.7761\n",
      "Epoch 29/100\n",
      "240/240 [==============================] - 0s 1ms/step - loss: 29.3041\n",
      "Epoch 30/100\n",
      "240/240 [==============================] - 0s 1ms/step - loss: 28.2387\n",
      "Epoch 31/100\n",
      "240/240 [==============================] - 0s 1ms/step - loss: 28.5879\n",
      "Epoch 32/100\n",
      "240/240 [==============================] - 0s 1ms/step - loss: 28.9317\n",
      "Epoch 33/100\n",
      "240/240 [==============================] - 0s 1ms/step - loss: 28.0508\n",
      "Epoch 34/100\n",
      "240/240 [==============================] - 0s 1ms/step - loss: 27.3914\n",
      "Epoch 35/100\n",
      "240/240 [==============================] - 0s 1ms/step - loss: 28.6288\n",
      "Epoch 36/100\n",
      "240/240 [==============================] - 0s 1ms/step - loss: 28.0021\n",
      "Epoch 37/100\n",
      "240/240 [==============================] - 0s 1ms/step - loss: 27.3678\n",
      "Epoch 38/100\n",
      "240/240 [==============================] - 0s 1ms/step - loss: 27.1767\n",
      "Epoch 39/100\n",
      "240/240 [==============================] - 0s 1ms/step - loss: 27.1155\n",
      "Epoch 40/100\n",
      "240/240 [==============================] - 0s 1ms/step - loss: 28.0325\n",
      "Epoch 41/100\n",
      "240/240 [==============================] - 0s 1ms/step - loss: 27.4546\n",
      "Epoch 42/100\n",
      "240/240 [==============================] - 0s 1ms/step - loss: 26.4544\n",
      "Epoch 43/100\n",
      "240/240 [==============================] - 0s 1ms/step - loss: 27.1501\n",
      "Epoch 44/100\n",
      "240/240 [==============================] - 0s 1ms/step - loss: 26.2347\n",
      "Epoch 45/100\n",
      "240/240 [==============================] - 0s 1ms/step - loss: 26.8854\n",
      "Epoch 46/100\n",
      "240/240 [==============================] - 0s 1ms/step - loss: 28.9899\n",
      "Epoch 47/100\n",
      "240/240 [==============================] - 0s 1ms/step - loss: 27.0612\n",
      "Epoch 48/100\n",
      "240/240 [==============================] - 0s 1ms/step - loss: 26.6934\n",
      "Epoch 49/100\n",
      "240/240 [==============================] - 0s 1ms/step - loss: 27.8407\n",
      "Epoch 50/100\n",
      "240/240 [==============================] - 0s 1ms/step - loss: 26.8600\n",
      "Epoch 51/100\n",
      "240/240 [==============================] - 0s 1ms/step - loss: 26.8053\n",
      "Epoch 52/100\n",
      "240/240 [==============================] - 0s 1ms/step - loss: 26.5888\n",
      "Epoch 53/100\n",
      "240/240 [==============================] - 0s 1ms/step - loss: 27.0160\n",
      "Epoch 54/100\n",
      "240/240 [==============================] - 0s 1ms/step - loss: 27.1709\n",
      "Epoch 55/100\n",
      "240/240 [==============================] - 0s 1ms/step - loss: 27.2278\n",
      "Epoch 56/100\n",
      "240/240 [==============================] - 0s 1ms/step - loss: 27.0543\n",
      "Epoch 57/100\n",
      "240/240 [==============================] - 0s 1ms/step - loss: 26.7241\n",
      "Epoch 58/100\n",
      "240/240 [==============================] - 0s 1ms/step - loss: 27.2423\n",
      "Epoch 59/100\n",
      "240/240 [==============================] - 0s 1ms/step - loss: 27.4442\n",
      "Epoch 60/100\n",
      "240/240 [==============================] - 0s 1ms/step - loss: 27.4924\n",
      "Epoch 61/100\n",
      "240/240 [==============================] - 0s 1ms/step - loss: 25.8108\n",
      "Epoch 62/100\n",
      "240/240 [==============================] - 0s 1ms/step - loss: 26.8151\n",
      "Epoch 63/100\n",
      "240/240 [==============================] - 0s 1ms/step - loss: 26.8981\n",
      "Epoch 64/100\n",
      "240/240 [==============================] - 0s 1ms/step - loss: 26.2341\n",
      "Epoch 65/100\n",
      "240/240 [==============================] - 0s 1ms/step - loss: 27.8420\n",
      "Epoch 66/100\n",
      "240/240 [==============================] - 0s 1ms/step - loss: 26.5102\n",
      "Epoch 67/100\n",
      "240/240 [==============================] - 0s 1ms/step - loss: 27.5061\n",
      "Epoch 68/100\n",
      "240/240 [==============================] - 0s 1ms/step - loss: 26.6034\n",
      "Epoch 69/100\n",
      "240/240 [==============================] - 0s 1ms/step - loss: 25.4547\n",
      "Epoch 70/100\n",
      "240/240 [==============================] - 0s 1ms/step - loss: 27.7374\n",
      "Epoch 71/100\n",
      "240/240 [==============================] - 0s 1ms/step - loss: 27.1333\n",
      "Epoch 72/100\n",
      "240/240 [==============================] - 0s 1ms/step - loss: 26.7164\n",
      "Epoch 73/100\n",
      "240/240 [==============================] - 0s 1ms/step - loss: 26.6795\n",
      "Epoch 74/100\n",
      "240/240 [==============================] - 0s 1ms/step - loss: 27.0324\n",
      "Epoch 75/100\n",
      "240/240 [==============================] - 0s 1ms/step - loss: 26.4409\n",
      "Epoch 76/100\n",
      "240/240 [==============================] - 0s 1ms/step - loss: 26.9144\n",
      "Epoch 77/100\n",
      "240/240 [==============================] - 0s 1ms/step - loss: 27.5376\n",
      "Epoch 78/100\n",
      "240/240 [==============================] - 0s 1ms/step - loss: 25.8140\n",
      "Epoch 79/100\n",
      "240/240 [==============================] - 0s 1ms/step - loss: 26.5215\n",
      "Epoch 80/100\n",
      "240/240 [==============================] - 0s 1ms/step - loss: 27.7262\n",
      "Epoch 81/100\n",
      "240/240 [==============================] - 0s 1ms/step - loss: 26.3629\n",
      "Epoch 82/100\n",
      "240/240 [==============================] - 0s 1ms/step - loss: 26.3863\n",
      "Epoch 83/100\n",
      "240/240 [==============================] - 0s 1ms/step - loss: 27.3435\n",
      "Epoch 84/100\n",
      "240/240 [==============================] - 0s 1ms/step - loss: 27.6253\n",
      "Epoch 85/100\n",
      "240/240 [==============================] - 0s 1ms/step - loss: 26.2302\n",
      "Epoch 86/100\n",
      "240/240 [==============================] - 0s 1ms/step - loss: 26.2901\n",
      "Epoch 87/100\n",
      "240/240 [==============================] - 0s 1ms/step - loss: 27.8816\n",
      "Epoch 88/100\n",
      "240/240 [==============================] - 0s 1ms/step - loss: 28.3823\n",
      "Epoch 89/100\n",
      "240/240 [==============================] - 0s 1ms/step - loss: 26.9007\n",
      "Epoch 90/100\n",
      "240/240 [==============================] - 0s 1ms/step - loss: 27.5028\n",
      "Epoch 91/100\n",
      "240/240 [==============================] - 0s 1ms/step - loss: 27.0569\n",
      "Epoch 92/100\n",
      "240/240 [==============================] - 0s 1ms/step - loss: 25.8873\n",
      "Epoch 93/100\n",
      "240/240 [==============================] - 0s 1ms/step - loss: 26.8359\n",
      "Epoch 94/100\n",
      "240/240 [==============================] - 0s 1ms/step - loss: 26.9276\n",
      "Epoch 95/100\n",
      "240/240 [==============================] - 0s 1ms/step - loss: 28.1157\n",
      "Epoch 96/100\n",
      "240/240 [==============================] - 0s 1ms/step - loss: 26.9198\n",
      "Epoch 97/100\n",
      "240/240 [==============================] - 0s 1ms/step - loss: 27.5271\n",
      "Epoch 98/100\n"
     ]
    },
    {
     "name": "stdout",
     "output_type": "stream",
     "text": [
      "240/240 [==============================] - 0s 1ms/step - loss: 28.5720\n",
      "Epoch 99/100\n",
      "240/240 [==============================] - 0s 1ms/step - loss: 27.9551\n",
      "Epoch 100/100\n",
      "240/240 [==============================] - 0s 1ms/step - loss: 26.9650\n"
     ]
    },
    {
     "data": {
      "text/plain": [
       "<tensorflow.python.keras.callbacks.History at 0x7fc4640560a0>"
      ]
     },
     "execution_count": 9,
     "metadata": {},
     "output_type": "execute_result"
    }
   ],
   "source": [
    "ann.fit(X_train, y_train, batch_size = 32, epochs = 100)"
   ]
  },
  {
   "cell_type": "markdown",
   "metadata": {
    "colab_type": "text",
    "id": "0H0zKKNEBLD5"
   },
   "source": [
    "### Predicting the results of the Test set"
   ]
  },
  {
   "cell_type": "code",
   "execution_count": 14,
   "metadata": {
    "colab": {
     "base_uri": "https://localhost:8080/",
     "height": 134
    },
    "colab_type": "code",
    "id": "IA0yApEmBG1X",
    "outputId": "cb981e1f-9204-4a2a-fece-9d66a6919189"
   },
   "outputs": [
    {
     "name": "stdout",
     "output_type": "stream",
     "text": [
      "[[431.22 431.23]\n",
      " [462.09 460.01]\n",
      " [465.53 461.14]\n",
      " ...\n",
      " [472.8  473.26]\n",
      " [439.61 438.  ]\n",
      " [458.78 463.28]]\n"
     ]
    }
   ],
   "source": [
    "y_pred = ann.predict(X_test)\n",
    "np.set_printoptions(precision=2)\n",
    "print(np.concatenate((y_pred.reshape(len(y_pred),1), y_test.reshape(len(y_test),1)),1))"
   ]
  },
  {
   "cell_type": "markdown",
   "metadata": {},
   "source": [
    "## Finding accuracy"
   ]
  },
  {
   "cell_type": "code",
   "execution_count": 16,
   "metadata": {},
   "outputs": [
    {
     "name": "stdout",
     "output_type": "stream",
     "text": [
      "[[431.22 431.23]\n",
      " [462.09 460.01]\n",
      " [465.53 461.14]\n",
      " ...\n",
      " [472.8  473.26]\n",
      " [439.61 438.  ]\n",
      " [458.78 463.28]]\n"
     ]
    },
    {
     "data": {
      "text/plain": [
       "0.9157766036587528"
      ]
     },
     "execution_count": 16,
     "metadata": {},
     "output_type": "execute_result"
    }
   ],
   "source": [
    "np.set_printoptions(precision=2)\n",
    "print(np.concatenate((y_pred.reshape(len(y_pred),1), y_test.reshape(len(y_test),1)),1))\n",
    "\n",
    "from sklearn.metrics import r2_score\n",
    "r2_score(y_test, y_pred)"
   ]
  }
 ],
 "metadata": {
  "colab": {
   "collapsed_sections": [],
   "name": "Artificial Neural Network",
   "provenance": [],
   "toc_visible": true
  },
  "kernelspec": {
   "display_name": "Python 3",
   "language": "python",
   "name": "python3"
  },
  "language_info": {
   "codemirror_mode": {
    "name": "ipython",
    "version": 3
   },
   "file_extension": ".py",
   "mimetype": "text/x-python",
   "name": "python",
   "nbconvert_exporter": "python",
   "pygments_lexer": "ipython3",
   "version": "3.8.3"
  }
 },
 "nbformat": 4,
 "nbformat_minor": 1
}
